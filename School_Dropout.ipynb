{
  "nbformat": 4,
  "nbformat_minor": 0,
  "metadata": {
    "colab": {
      "provenance": []
    },
    "kernelspec": {
      "name": "python3",
      "display_name": "Python 3"
    },
    "language_info": {
      "name": "python"
    }
  },
  "cells": [
    {
      "cell_type": "markdown",
      "source": [
        "# School Dropout"
      ],
      "metadata": {
        "id": "GHOigLPCx_Qg"
      }
    },
    {
      "cell_type": "markdown",
      "source": [
        "# Limpieza, organizacion y estandarizacion de los datos"
      ],
      "metadata": {
        "id": "_I9HO4C7yFLO"
      }
    },
    {
      "cell_type": "code",
      "source": [
        "# Implementación de las librerias utilizadas.\n",
        "from IPython.display import display # Para mostrar múltiples resultados en una sola celda.\n",
        "import pandas as pd\n",
        "import numpy as np"
      ],
      "metadata": {
        "id": "O46IXDdSyJee"
      },
      "execution_count": null,
      "outputs": []
    },
    {
      "cell_type": "code",
      "source": [
        "# Subir el archivo CSV\n",
        "\n",
        "from google.colab import drive\n",
        "\n",
        "\n",
        "# Montar Google Drive\n",
        "drive.mount('/content/drive')"
      ],
      "metadata": {
        "colab": {
          "base_uri": "https://localhost:8080/"
        },
        "id": "9UtZIJbhvcZr",
        "outputId": "cc3316ce-6a67-47aa-d865-3a4bae364494"
      },
      "execution_count": null,
      "outputs": [
        {
          "output_type": "stream",
          "name": "stdout",
          "text": [
            "Mounted at /content/drive\n"
          ]
        }
      ]
    },
    {
      "cell_type": "code",
      "source": [
        "# Declaracion de variables generales.\n",
        "df = pd.DataFrame()\n",
        "df_current = pd.DataFrame()"
      ],
      "metadata": {
        "id": "-pW5S_Q_yceM"
      },
      "execution_count": null,
      "outputs": []
    },
    {
      "cell_type": "code",
      "source": [
        " # Cargamos el archivo, para su principal lectura y procesamiento de datos.\n",
        "try:\n",
        "  df=pd.read_csv('/content/drive/MyDrive/proyecto-tc-m2/student_data.csv',sep=';')\n",
        "  display(df)\n",
        "except Exception as e:\n",
        "  print(\"Algo ocurrio con la lectura del archivo verifica la ruta\")\n",
        "  print(f'Error: {e}')\n",
        "else:\n",
        "  print(\"Lectura finalizada\")\n"
      ],
      "metadata": {
        "id": "6Lm164I27nVV"
      },
      "execution_count": null,
      "outputs": []
    },
    {
      "cell_type": "code",
      "source": [
        "# Obtenemos un panorama general de los datos.\n",
        "def info_general_df(df):\n",
        "  print('Información general del DataFrame')\n",
        "  print(f'Cantidad de filas y columnas: {df.shape}')\n",
        "  print(\"-\"*50)\n",
        "  print(f'Cantidad de datos nulos por columna: \\n{df.isnull().sum()}')\n",
        "  print(\"-\"*50)\n",
        "  print(f'Cantidad de datos únicos por columna: \\n{df.nunique()}')\n",
        "  print(\"-\"*50)\n",
        "  print(f'Tipos de datos por columna: \\n{df.dtypes}')\n",
        "\n",
        "info_general_df(df)"
      ],
      "metadata": {
        "id": "HZ4aRcNv2JZw",
        "collapsed": true,
        "colab": {
          "base_uri": "https://localhost:8080/"
        },
        "outputId": "72649fe5-a08c-450d-e85a-ec9154830b96"
      },
      "execution_count": null,
      "outputs": [
        {
          "output_type": "stream",
          "name": "stdout",
          "text": [
            "Información general del DataFrame\n",
            "Cantidad de filas y columnas: (4424, 17)\n",
            "--------------------------------------------------\n",
            "Cantidad de datos nulos por columna: \n",
            "Estado_civil                         0\n",
            "Curso                                0\n",
            "Modalidad_asistencia                 0\n",
            "Nacionalidad                         0\n",
            "Cualificación_de_la_madre            0\n",
            "Cualificación_del_padre              0\n",
            "Desplazado                           0\n",
            "Necesidades_educativas_especiales    0\n",
            "Deudor                               0\n",
            "Matrícula_al_día                     0\n",
            "Género                               0\n",
            "Titular_de_la_beca                   0\n",
            "Estudiante_internacional             0\n",
            "Nota_primer_semestre                 0\n",
            "Nota_segundo_semestre                0\n",
            "Tasa_de_desempleo                    0\n",
            "Rendimiento                          0\n",
            "dtype: int64\n",
            "--------------------------------------------------\n",
            "Cantidad de datos únicos por columna: \n",
            "Estado_civil                           6\n",
            "Curso                                 17\n",
            "Modalidad_asistencia                   2\n",
            "Nacionalidad                          21\n",
            "Cualificación_de_la_madre             29\n",
            "Cualificación_del_padre               34\n",
            "Desplazado                             2\n",
            "Necesidades_educativas_especiales      2\n",
            "Deudor                                 2\n",
            "Matrícula_al_día                       2\n",
            "Género                                 2\n",
            "Titular_de_la_beca                     2\n",
            "Estudiante_internacional               2\n",
            "Nota_primer_semestre                 805\n",
            "Nota_segundo_semestre                786\n",
            "Tasa_de_desempleo                     10\n",
            "Rendimiento                            3\n",
            "dtype: int64\n",
            "--------------------------------------------------\n",
            "Tipos de datos por columna: \n",
            "Estado_civil                          object\n",
            "Curso                                 object\n",
            "Modalidad_asistencia                  object\n",
            "Nacionalidad                          object\n",
            "Cualificación_de_la_madre             object\n",
            "Cualificación_del_padre               object\n",
            "Desplazado                            object\n",
            "Necesidades_educativas_especiales     object\n",
            "Deudor                                object\n",
            "Matrícula_al_día                      object\n",
            "Género                                object\n",
            "Titular_de_la_beca                    object\n",
            "Estudiante_internacional              object\n",
            "Nota_primer_semestre                 float64\n",
            "Nota_segundo_semestre                float64\n",
            "Tasa_de_desempleo                    float64\n",
            "Rendimiento                           object\n",
            "dtype: object\n"
          ]
        }
      ]
    },
    {
      "cell_type": "code",
      "source": [
        "# Eliminacion de las columnas\n",
        "df = pd.read_csv('/content/drive/MyDrive/proyecto-tc-m2/student_data.csv', sep=';')\n",
        "df= df.drop(['Application mode', 'Application order','Previous qualification',\n",
        "               'Previous qualification', 'Mother\\'s occupation','Father\\'s occupation',\n",
        "             'Age at enrollment','Curricular units 1st sem (credited)',\n",
        "             'Curricular units 1st sem (enrolled)', 'Curricular units 1st sem (evaluations)',\n",
        "             'Curricular units 1st sem (approved)', 'Curricular units 1st sem (without evaluations)',\n",
        "             'Curricular units 2nd sem (credited)', 'Curricular units 2nd sem (enrolled)',\n",
        "             'Curricular units 2nd sem (evaluations)', 'Curricular units 2nd sem (approved)',\n",
        "             'Curricular units 2nd sem (without evaluations)', 'Inflation rate', 'GDP' ]\n",
        "             , axis=1)"
      ],
      "metadata": {
        "id": "oxe6JSfmwbpm"
      },
      "execution_count": null,
      "outputs": []
    },
    {
      "cell_type": "code",
      "source": [
        "# Renombre de las columnas\n",
        "df.rename (columns= {\n",
        "        'Marital status':'Estado_civil',\n",
        "        'Course':'Curso',\n",
        "        'evening attendance':'Modalidad_asistencia',\n",
        "        'Nacionality':'Nacionalidad',\n",
        "        'Mother\\'s qualification':'Cualificación_de_la_madre',\n",
        "        'Father\\'s qualification':'Cualificación_del_padre',\n",
        "        'Displaced':'Desplazado',\n",
        "        'Educational special needs':'Necesidades_educativas_especiales',\n",
        "        'Debtor':'Deudor',\n",
        "        'Tuition fees up to date':'Matrícula_al_día',\n",
        "        'Gender':'Género',\n",
        "        'Scholarship holder':'Titular_de_la_beca',\n",
        "        'International':'Estudiante_internacional',\n",
        "        'Curricular units 1st sem (grade)':'Nota_primer_semestre',\n",
        "        'Curricular units 2nd sem (grade)':'Nota_segundo_semestre',\n",
        "        'Unemployment rate':'Tasa_de_desempleo',\n",
        "        'Output': 'Rendimiento',\n",
        "        }, inplace=True)"
      ],
      "metadata": {
        "id": "GdITP045xIwh"
      },
      "execution_count": null,
      "outputs": []
    },
    {
      "cell_type": "code",
      "source": [
        "# Diccionario\n",
        "mapping = {\n",
        "    'Estado_civil': {1: 'Soltero/a',        2: 'Casado/a',    3: 'viudo/a',    4: 'divorciado/a',\n",
        "                     5: 'unión de hecho/a', 6: 'separado legalmente/a'},\n",
        "\n",
        "    'Curso': {1: 'Tecnologías de Producción de Biocombustibles',\n",
        "            2: 'Diseño de Animación y Multimedia',\n",
        "            3: 'Servicio Social (presencialidad vespertina)',\n",
        "            4: 'Agronomía',\n",
        "            5: 'Diseño de Comunicación',\n",
        "            6: 'Enfermería Veterinaria',\n",
        "            7: 'Ingeniería Informática ',\n",
        "            8: 'Equinocultura',\n",
        "            9: 'Gerencia ',\n",
        "            10:'Servicio Social',\n",
        "            11:'Turismo ',\n",
        "            12: 'Enfermería',\n",
        "            13: 'Higiene Bucal',\n",
        "            14: 'Gerencia de Publicidad y Mercadeo',\n",
        "            15: 'Periodismo y Comunicación',\n",
        "            16:'Educación Básica',\n",
        "            17:'Gerencia (presencialidad vespertina)'},\n",
        "\n",
        "    'Modalidad_asistencia': {1: 'Matutino', 2: 'vespertino'},\n",
        "\n",
        "    'Nacionalidad': {1: 'Portugués',   2: 'Alemán', 3: 'Español',\n",
        "            4: 'Italiano',      5: 'Holandés',      6: 'Inglés',     7: 'Lituano',\n",
        "            8: 'Angoleño',      9:'Caboverdiano',   10:'Guineano',   11: 'Mozambiqueño',\n",
        "            12: 'Santo Tomé y Príncipe',            13: 'Turco',     14: 'Brasileño',\n",
        "            15:'Rumano',        16:'Moldavia (República de)',        17: 'Mexicano',\n",
        "            18: 'Ucraniano',    19: 'Ruso',         20: 'Cubano',    21: 'Colombiano'},\n",
        "\n",
        "\n",
        "    'Cualificación_de_la_madre': {1: 'Educación Secundaria - 12º Año de Escolaridad o Equiv.',\n",
        "            2: 'Educación Superior - Licenciatura ',\n",
        "            3: 'Educación Superior - Grado',\n",
        "            4: 'Educación Superior - Maestría ',\n",
        "            5: 'Educación Superior - Doctorado',\n",
        "            6: 'Frecuencia de Educación Superior',\n",
        "            7: '12º Año de Escolaridad - No Concluido',\n",
        "            8: '11º Año de Escolaridad - No Concluido',\n",
        "            9: '7º Año (Antiguo)',\n",
        "            10:'Otro - 11º Año de Escolaridad',\n",
        "            11: '10º Año de Escolaridad',\n",
        "            12: 'Curso de comercio general',\n",
        "            13: 'Educación Básica 3er Ciclo (9º/10º/11º Año) o Equiv.',\n",
        "            14: 'Carrera técnico-profesional',\n",
        "            15:'7º año de escolaridad',\n",
        "            16:'2º ciclo del bachillerato general',\n",
        "            17: '9º año de escolaridad - No concluido ',\n",
        "            18: '8º año de escolaridad',\n",
        "            19: 'Desconocido',\n",
        "            20: 'No sabe leer ni escribir',\n",
        "            21: 'Puede leer sin haber cursado 4º año de escolaridad',\n",
        "            22: 'Educación básica 1er ciclo (4º/5º año) o equivalente',\n",
        "            23: 'Educación básica 2º ciclo (6º/7º/8º año) o equivalente',\n",
        "            24: 'Carrera de especialización tecnológica',\n",
        "            25: 'Carrera de grado superior (1er ciclo)',\n",
        "            26: 'Carrera de grado superior especializada',\n",
        "            27: 'Carrera técnico superior profesional',\n",
        "            28: 'Carrera de grado superior - Maestría (2º ciclo)',\n",
        "            29: 'Carrera de grado superior - Doctorado (3er ciclo)'},\n",
        "\n",
        "\n",
        "    'Cualificación_del_padre': {1: 'Educación Secundaria - 12º Año de Escolaridad o Equiv.',\n",
        "            2: 'Educación Superior - Licenciatura ',\n",
        "            3: 'Educación Superior - Grado',\n",
        "            4: 'Educación Superior - Maestría ',\n",
        "            5: 'Educación Superior - Doctorado',\n",
        "            6: 'Frecuencia de Educación Superior',\n",
        "            7: '12º Año de Escolaridad - No Concluido',\n",
        "            8: '11º Año de Escolaridad - No Concluido',\n",
        "            9: '7º Año (Antiguo)',\n",
        "            10:'Otro - 11º Año de Escolaridad',\n",
        "            11: '10º Año de Escolaridad',\n",
        "            12: 'Curso de comercio general',\n",
        "            13: 'Educación Básica 3er Ciclo (9º/10º/11º Año) o Equiv.',\n",
        "            14: 'Carrera técnico-profesional',\n",
        "            15:'7º año de escolaridad',\n",
        "            16:'2º ciclo del bachillerato general',\n",
        "            17: '9º año de escolaridad - No concluido ',\n",
        "            18: '8º año de escolaridad',\n",
        "            19: 'Desconocido',\n",
        "            20: 'No sabe leer ni escribir',\n",
        "            21: 'Puede leer sin haber cursado 4º año de escolaridad',\n",
        "            22: 'Educación básica 1er ciclo (4º/5º año) o equivalente',\n",
        "            23: 'Educación básica 2º ciclo (6º/7º/8º año) o equivalente',\n",
        "            24: 'Carrera de especialización tecnológica',\n",
        "            25: 'Carrera de grado superior (1er ciclo)',\n",
        "            26: 'Carrera de grado superior especializada',\n",
        "            27: 'Carrera técnico superior profesional',\n",
        "            28: 'Carrera de grado superior - Maestría (2º ciclo)',\n",
        "            29: 'Carrera de grado superior - Doctorado (3er ciclo)'},\n",
        "\n",
        "\n",
        "    'Desplazado': {0: 'No', 1: 'Si'},\n",
        "\n",
        "    'Necesidades_educativas_especiales': {0: 'No', 1: 'Si'},\n",
        "\n",
        "    'Deudor': {0: 'No', 1: 'Si'},\n",
        "\n",
        "    'Matrícula_al_día': {0: 'No', 1: 'Si'},\n",
        "\n",
        "    'Género': {0: 'Femenino', 1: 'Masculino'},\n",
        "\n",
        "    'Titular_de_la_beca': {0: 'No', 1: 'Si'},\n",
        "\n",
        "    'Estudiante_internacional': {0: 'No', 1: 'Si'},\n",
        "}"
      ],
      "metadata": {
        "id": "OQ43R4FExPDX"
      },
      "execution_count": null,
      "outputs": []
    },
    {
      "cell_type": "code",
      "source": [
        "# Aplicacion del mapeo a  las múltiples columnas\n",
        "df = df.replace(mapping)"
      ],
      "metadata": {
        "id": "dq61Ge2bxQut"
      },
      "execution_count": null,
      "outputs": []
    },
    {
      "cell_type": "code",
      "source": [
        "# Guardar los cambios en un nuevo csv\n",
        "df.to_csv(\"Final.csv\", index=False)"
      ],
      "metadata": {
        "id": "J0tD-XCkxVzd"
      },
      "execution_count": null,
      "outputs": []
    },
    {
      "cell_type": "code",
      "source": [
        "try:\n",
        "  df=pd.read_csv('Final.csv')\n",
        "  display(df)\n",
        "except Exception as e:\n",
        "  print(\"Algo ocurrio con la lectura del archivo verifica la ruta\")\n",
        "  print(f'Error: {e}')\n",
        "else:\n",
        "  print(\"Lectura finalizada\")"
      ],
      "metadata": {
        "id": "cCgpayCFxeLz",
        "outputId": "251c34d2-d65b-4430-ac2d-8038cccab7d4",
        "colab": {
          "base_uri": "https://localhost:8080/"
        }
      },
      "execution_count": null,
      "outputs": [
        {
          "output_type": "stream",
          "name": "stdout",
          "text": [
            "Algo ocurrio con la lectura del archivo verifica la ruta\n",
            "Error: [Errno 2] No such file or directory: 'Final.csv'\n"
          ]
        }
      ]
    },
    {
      "cell_type": "markdown",
      "source": [
        "# Calcular metricas y rangos de datos"
      ],
      "metadata": {
        "id": "LUzkJVZtxpsg"
      }
    },
    {
      "cell_type": "markdown",
      "source": [
        "###Una vez terminado todo el proceso anterior, en el cual redujimos el número de columnas para que únicamente se mantuvieran las que contienen factores de interés para el estudio, pasamos a la parte donde obtenemos qué tanto influye cada uno sobre la deserción escolar.\n",
        "\n",
        "---\n",
        "\n"
      ],
      "metadata": {
        "id": "DyzWtrD5zHW8"
      }
    },
    {
      "cell_type": "markdown",
      "source": [
        "#**Pregunta 1**\n",
        "###¿Existen diferencias en la tasa de deserción entre las distintas carreras?"
      ],
      "metadata": {
        "id": "5ApUvSUC_nXh"
      }
    },
    {
      "cell_type": "code",
      "source": [
        "# Pregunta 1 ¿Existen diferencias en la tasa de deserción entre las distintas carreras?\n",
        "# Cargar el archivo\n",
        "df = pd.read_csv('Final.csv')\n",
        "\n",
        "# Filtra los alumnos que han abandonado\n",
        "dropouts = df[df['Rendimiento'] == 'Dropout']\n",
        "\n",
        "# Cuenta los alumnos que abandonaron por carrera\n",
        "abandonos_por_carrera = dropouts['Curso'].value_counts()\n",
        "\n",
        "# Muestra los resultados con el nombre de la carrera y el numero de abandonos\n",
        "for carrera, abandonos in abandonos_por_carrera.items():\n",
        "    print(f\"Carrera: {carrera} - Alumnos que abandonaron: {abandonos}\")\n"
      ],
      "metadata": {
        "colab": {
          "base_uri": "https://localhost:8080/"
        },
        "id": "LC-Mr99zxuoM",
        "outputId": "09f3e826-ca02-4efb-e580-27c0f2fee2d9"
      },
      "execution_count": null,
      "outputs": [
        {
          "output_type": "stream",
          "name": "stdout",
          "text": [
            "Carrera: Gerencia (presencialidad vespertina) - Alumnos que abandonaron: 136\n",
            "Carrera: Gerencia  - Alumnos que abandonaron: 134\n",
            "Carrera: Enfermería - Alumnos que abandonaron: 118\n",
            "Carrera: Periodismo y Comunicación - Alumnos que abandonaron: 101\n",
            "Carrera: Turismo  - Alumnos que abandonaron: 96\n",
            "Carrera: Gerencia de Publicidad y Mercadeo - Alumnos que abandonaron: 95\n",
            "Carrera: Ingeniería Informática  - Alumnos que abandonaron: 92\n",
            "Carrera: Enfermería Veterinaria - Alumnos que abandonaron: 90\n",
            "Carrera: Agronomía - Alumnos que abandonaron: 86\n",
            "Carrera: Educación Básica - Alumnos que abandonaron: 85\n",
            "Carrera: Diseño de Animación y Multimedia - Alumnos que abandonaron: 82\n",
            "Carrera: Equinocultura - Alumnos que abandonaron: 78\n",
            "Carrera: Servicio Social (presencialidad vespertina) - Alumnos que abandonaron: 71\n",
            "Carrera: Servicio Social - Alumnos que abandonaron: 65\n",
            "Carrera: Diseño de Comunicación - Alumnos que abandonaron: 51\n",
            "Carrera: Higiene Bucal - Alumnos que abandonaron: 33\n",
            "Carrera: Tecnologías de Producción de Biocombustibles - Alumnos que abandonaron: 8\n"
          ]
        }
      ]
    },
    {
      "cell_type": "markdown",
      "source": [
        "#Pregunta 2\n",
        "###¿Existen diferencias en las tasas de deserción entre estudiantes desplazados y no desplazados?\n"
      ],
      "metadata": {
        "id": "fwzKpQ15_gQ0"
      }
    },
    {
      "cell_type": "code",
      "source": [
        "# Pregunta 2 ¿Existen diferencias en las tasas de deserción entre estudiantes desplazados y no desplazados?\n",
        "\n",
        "# Filtrar los alumnos que han abandonado\n",
        "dropouts = df[df['Rendimiento'] == 'Dropout']\n",
        "\n",
        "# Contar los abandonos por estado de desplazamiento\n",
        "abandonos_por_desplazamiento = dropouts['Desplazado'].value_counts()\n",
        "\n",
        "# Mostrar los resultados\n",
        "abandonos_por_desplazamiento"
      ],
      "metadata": {
        "colab": {
          "base_uri": "https://localhost:8080/",
          "height": 178
        },
        "id": "nTWkGog4kEsH",
        "outputId": "d76e89ad-90e2-4c8f-b35d-057f0a360bd8"
      },
      "execution_count": null,
      "outputs": [
        {
          "output_type": "execute_result",
          "data": {
            "text/plain": [
              "Desplazado\n",
              "No    752\n",
              "Si    669\n",
              "Name: count, dtype: int64"
            ],
            "text/html": [
              "<div>\n",
              "<style scoped>\n",
              "    .dataframe tbody tr th:only-of-type {\n",
              "        vertical-align: middle;\n",
              "    }\n",
              "\n",
              "    .dataframe tbody tr th {\n",
              "        vertical-align: top;\n",
              "    }\n",
              "\n",
              "    .dataframe thead th {\n",
              "        text-align: right;\n",
              "    }\n",
              "</style>\n",
              "<table border=\"1\" class=\"dataframe\">\n",
              "  <thead>\n",
              "    <tr style=\"text-align: right;\">\n",
              "      <th></th>\n",
              "      <th>count</th>\n",
              "    </tr>\n",
              "    <tr>\n",
              "      <th>Desplazado</th>\n",
              "      <th></th>\n",
              "    </tr>\n",
              "  </thead>\n",
              "  <tbody>\n",
              "    <tr>\n",
              "      <th>No</th>\n",
              "      <td>752</td>\n",
              "    </tr>\n",
              "    <tr>\n",
              "      <th>Si</th>\n",
              "      <td>669</td>\n",
              "    </tr>\n",
              "  </tbody>\n",
              "</table>\n",
              "</div><br><label><b>dtype:</b> int64</label>"
            ]
          },
          "metadata": {},
          "execution_count": 17
        }
      ]
    },
    {
      "cell_type": "markdown",
      "source": [
        "# **Pregunta 3**\n",
        "###¿Existe una correlación significativa entre el nivel educativo de los padres y la probabilidad de deserción de los estudiantes?"
      ],
      "metadata": {
        "id": "sAUmZNq6_56e"
      }
    },
    {
      "cell_type": "code",
      "source": [
        "# Pregunta 3 ¿Existe una correlación significativa entre el nivel educativo de los padres y la probabilidad de deserción de los estudiantes?\n",
        "# Crear una tabla que cuente las deserciones por cualificación de la madre y del padre\n",
        "abandonos_por_cualificacion = dropouts.groupby(['Cualificación_de_la_madre', 'Cualificación_del_padre']).size().reset_index(name='Abandonos')\n",
        "\n",
        "# Mostrar los resultados\n",
        "abandonos_por_cualificacion"
      ],
      "metadata": {
        "id": "48koG1ObyAbU",
        "colab": {
          "base_uri": "https://localhost:8080/",
          "height": 682
        },
        "outputId": "39c18df8-3a1c-4ba6-af38-80b3f97f7135"
      },
      "execution_count": null,
      "outputs": [
        {
          "output_type": "execute_result",
          "data": {
            "text/plain": [
              "                             Cualificación_de_la_madre  \\\n",
              "0                               10º Año de Escolaridad   \n",
              "1                11º Año de Escolaridad - No Concluido   \n",
              "2                11º Año de Escolaridad - No Concluido   \n",
              "3                12º Año de Escolaridad - No Concluido   \n",
              "4                12º Año de Escolaridad - No Concluido   \n",
              "..                                                 ...   \n",
              "117                      Otro - 11º Año de Escolaridad   \n",
              "118                      Otro - 11º Año de Escolaridad   \n",
              "119                      Otro - 11º Año de Escolaridad   \n",
              "120  Puede leer sin haber cursado 4º año de escolar...   \n",
              "121  Puede leer sin haber cursado 4º año de escolar...   \n",
              "\n",
              "                     Cualificación_del_padre  Abandonos  \n",
              "0                           7º Año (Antiguo)          1  \n",
              "1      11º Año de Escolaridad - No Concluido          1  \n",
              "2              Otro - 11º Año de Escolaridad          1  \n",
              "3          2º ciclo del bachillerato general          1  \n",
              "4                Carrera técnico-profesional          2  \n",
              "..                                       ...        ...  \n",
              "117               Educación Superior - Grado          3  \n",
              "118       Educación Superior - Licenciatura           1  \n",
              "119            Otro - 11º Año de Escolaridad          4  \n",
              "120  Carrera de grado superior especializada          1  \n",
              "121                Curso de comercio general          1  \n",
              "\n",
              "[122 rows x 3 columns]"
            ],
            "text/html": [
              "\n",
              "  <div id=\"df-3e03e897-3b76-4e5e-808b-1d8ff2c91292\" class=\"colab-df-container\">\n",
              "    <div>\n",
              "<style scoped>\n",
              "    .dataframe tbody tr th:only-of-type {\n",
              "        vertical-align: middle;\n",
              "    }\n",
              "\n",
              "    .dataframe tbody tr th {\n",
              "        vertical-align: top;\n",
              "    }\n",
              "\n",
              "    .dataframe thead th {\n",
              "        text-align: right;\n",
              "    }\n",
              "</style>\n",
              "<table border=\"1\" class=\"dataframe\">\n",
              "  <thead>\n",
              "    <tr style=\"text-align: right;\">\n",
              "      <th></th>\n",
              "      <th>Cualificación_de_la_madre</th>\n",
              "      <th>Cualificación_del_padre</th>\n",
              "      <th>Abandonos</th>\n",
              "    </tr>\n",
              "  </thead>\n",
              "  <tbody>\n",
              "    <tr>\n",
              "      <th>0</th>\n",
              "      <td>10º Año de Escolaridad</td>\n",
              "      <td>7º Año (Antiguo)</td>\n",
              "      <td>1</td>\n",
              "    </tr>\n",
              "    <tr>\n",
              "      <th>1</th>\n",
              "      <td>11º Año de Escolaridad - No Concluido</td>\n",
              "      <td>11º Año de Escolaridad - No Concluido</td>\n",
              "      <td>1</td>\n",
              "    </tr>\n",
              "    <tr>\n",
              "      <th>2</th>\n",
              "      <td>11º Año de Escolaridad - No Concluido</td>\n",
              "      <td>Otro - 11º Año de Escolaridad</td>\n",
              "      <td>1</td>\n",
              "    </tr>\n",
              "    <tr>\n",
              "      <th>3</th>\n",
              "      <td>12º Año de Escolaridad - No Concluido</td>\n",
              "      <td>2º ciclo del bachillerato general</td>\n",
              "      <td>1</td>\n",
              "    </tr>\n",
              "    <tr>\n",
              "      <th>4</th>\n",
              "      <td>12º Año de Escolaridad - No Concluido</td>\n",
              "      <td>Carrera técnico-profesional</td>\n",
              "      <td>2</td>\n",
              "    </tr>\n",
              "    <tr>\n",
              "      <th>...</th>\n",
              "      <td>...</td>\n",
              "      <td>...</td>\n",
              "      <td>...</td>\n",
              "    </tr>\n",
              "    <tr>\n",
              "      <th>117</th>\n",
              "      <td>Otro - 11º Año de Escolaridad</td>\n",
              "      <td>Educación Superior - Grado</td>\n",
              "      <td>3</td>\n",
              "    </tr>\n",
              "    <tr>\n",
              "      <th>118</th>\n",
              "      <td>Otro - 11º Año de Escolaridad</td>\n",
              "      <td>Educación Superior - Licenciatura</td>\n",
              "      <td>1</td>\n",
              "    </tr>\n",
              "    <tr>\n",
              "      <th>119</th>\n",
              "      <td>Otro - 11º Año de Escolaridad</td>\n",
              "      <td>Otro - 11º Año de Escolaridad</td>\n",
              "      <td>4</td>\n",
              "    </tr>\n",
              "    <tr>\n",
              "      <th>120</th>\n",
              "      <td>Puede leer sin haber cursado 4º año de escolar...</td>\n",
              "      <td>Carrera de grado superior especializada</td>\n",
              "      <td>1</td>\n",
              "    </tr>\n",
              "    <tr>\n",
              "      <th>121</th>\n",
              "      <td>Puede leer sin haber cursado 4º año de escolar...</td>\n",
              "      <td>Curso de comercio general</td>\n",
              "      <td>1</td>\n",
              "    </tr>\n",
              "  </tbody>\n",
              "</table>\n",
              "<p>122 rows × 3 columns</p>\n",
              "</div>\n",
              "    <div class=\"colab-df-buttons\">\n",
              "\n",
              "  <div class=\"colab-df-container\">\n",
              "    <button class=\"colab-df-convert\" onclick=\"convertToInteractive('df-3e03e897-3b76-4e5e-808b-1d8ff2c91292')\"\n",
              "            title=\"Convert this dataframe to an interactive table.\"\n",
              "            style=\"display:none;\">\n",
              "\n",
              "  <svg xmlns=\"http://www.w3.org/2000/svg\" height=\"24px\" viewBox=\"0 -960 960 960\">\n",
              "    <path d=\"M120-120v-720h720v720H120Zm60-500h600v-160H180v160Zm220 220h160v-160H400v160Zm0 220h160v-160H400v160ZM180-400h160v-160H180v160Zm440 0h160v-160H620v160ZM180-180h160v-160H180v160Zm440 0h160v-160H620v160Z\"/>\n",
              "  </svg>\n",
              "    </button>\n",
              "\n",
              "  <style>\n",
              "    .colab-df-container {\n",
              "      display:flex;\n",
              "      gap: 12px;\n",
              "    }\n",
              "\n",
              "    .colab-df-convert {\n",
              "      background-color: #E8F0FE;\n",
              "      border: none;\n",
              "      border-radius: 50%;\n",
              "      cursor: pointer;\n",
              "      display: none;\n",
              "      fill: #1967D2;\n",
              "      height: 32px;\n",
              "      padding: 0 0 0 0;\n",
              "      width: 32px;\n",
              "    }\n",
              "\n",
              "    .colab-df-convert:hover {\n",
              "      background-color: #E2EBFA;\n",
              "      box-shadow: 0px 1px 2px rgba(60, 64, 67, 0.3), 0px 1px 3px 1px rgba(60, 64, 67, 0.15);\n",
              "      fill: #174EA6;\n",
              "    }\n",
              "\n",
              "    .colab-df-buttons div {\n",
              "      margin-bottom: 4px;\n",
              "    }\n",
              "\n",
              "    [theme=dark] .colab-df-convert {\n",
              "      background-color: #3B4455;\n",
              "      fill: #D2E3FC;\n",
              "    }\n",
              "\n",
              "    [theme=dark] .colab-df-convert:hover {\n",
              "      background-color: #434B5C;\n",
              "      box-shadow: 0px 1px 3px 1px rgba(0, 0, 0, 0.15);\n",
              "      filter: drop-shadow(0px 1px 2px rgba(0, 0, 0, 0.3));\n",
              "      fill: #FFFFFF;\n",
              "    }\n",
              "  </style>\n",
              "\n",
              "    <script>\n",
              "      const buttonEl =\n",
              "        document.querySelector('#df-3e03e897-3b76-4e5e-808b-1d8ff2c91292 button.colab-df-convert');\n",
              "      buttonEl.style.display =\n",
              "        google.colab.kernel.accessAllowed ? 'block' : 'none';\n",
              "\n",
              "      async function convertToInteractive(key) {\n",
              "        const element = document.querySelector('#df-3e03e897-3b76-4e5e-808b-1d8ff2c91292');\n",
              "        const dataTable =\n",
              "          await google.colab.kernel.invokeFunction('convertToInteractive',\n",
              "                                                    [key], {});\n",
              "        if (!dataTable) return;\n",
              "\n",
              "        const docLinkHtml = 'Like what you see? Visit the ' +\n",
              "          '<a target=\"_blank\" href=https://colab.research.google.com/notebooks/data_table.ipynb>data table notebook</a>'\n",
              "          + ' to learn more about interactive tables.';\n",
              "        element.innerHTML = '';\n",
              "        dataTable['output_type'] = 'display_data';\n",
              "        await google.colab.output.renderOutput(dataTable, element);\n",
              "        const docLink = document.createElement('div');\n",
              "        docLink.innerHTML = docLinkHtml;\n",
              "        element.appendChild(docLink);\n",
              "      }\n",
              "    </script>\n",
              "  </div>\n",
              "\n",
              "\n",
              "<div id=\"df-ff65c3df-03b9-42d0-9cb0-882a2a6dacc0\">\n",
              "  <button class=\"colab-df-quickchart\" onclick=\"quickchart('df-ff65c3df-03b9-42d0-9cb0-882a2a6dacc0')\"\n",
              "            title=\"Suggest charts\"\n",
              "            style=\"display:none;\">\n",
              "\n",
              "<svg xmlns=\"http://www.w3.org/2000/svg\" height=\"24px\"viewBox=\"0 0 24 24\"\n",
              "     width=\"24px\">\n",
              "    <g>\n",
              "        <path d=\"M19 3H5c-1.1 0-2 .9-2 2v14c0 1.1.9 2 2 2h14c1.1 0 2-.9 2-2V5c0-1.1-.9-2-2-2zM9 17H7v-7h2v7zm4 0h-2V7h2v10zm4 0h-2v-4h2v4z\"/>\n",
              "    </g>\n",
              "</svg>\n",
              "  </button>\n",
              "\n",
              "<style>\n",
              "  .colab-df-quickchart {\n",
              "      --bg-color: #E8F0FE;\n",
              "      --fill-color: #1967D2;\n",
              "      --hover-bg-color: #E2EBFA;\n",
              "      --hover-fill-color: #174EA6;\n",
              "      --disabled-fill-color: #AAA;\n",
              "      --disabled-bg-color: #DDD;\n",
              "  }\n",
              "\n",
              "  [theme=dark] .colab-df-quickchart {\n",
              "      --bg-color: #3B4455;\n",
              "      --fill-color: #D2E3FC;\n",
              "      --hover-bg-color: #434B5C;\n",
              "      --hover-fill-color: #FFFFFF;\n",
              "      --disabled-bg-color: #3B4455;\n",
              "      --disabled-fill-color: #666;\n",
              "  }\n",
              "\n",
              "  .colab-df-quickchart {\n",
              "    background-color: var(--bg-color);\n",
              "    border: none;\n",
              "    border-radius: 50%;\n",
              "    cursor: pointer;\n",
              "    display: none;\n",
              "    fill: var(--fill-color);\n",
              "    height: 32px;\n",
              "    padding: 0;\n",
              "    width: 32px;\n",
              "  }\n",
              "\n",
              "  .colab-df-quickchart:hover {\n",
              "    background-color: var(--hover-bg-color);\n",
              "    box-shadow: 0 1px 2px rgba(60, 64, 67, 0.3), 0 1px 3px 1px rgba(60, 64, 67, 0.15);\n",
              "    fill: var(--button-hover-fill-color);\n",
              "  }\n",
              "\n",
              "  .colab-df-quickchart-complete:disabled,\n",
              "  .colab-df-quickchart-complete:disabled:hover {\n",
              "    background-color: var(--disabled-bg-color);\n",
              "    fill: var(--disabled-fill-color);\n",
              "    box-shadow: none;\n",
              "  }\n",
              "\n",
              "  .colab-df-spinner {\n",
              "    border: 2px solid var(--fill-color);\n",
              "    border-color: transparent;\n",
              "    border-bottom-color: var(--fill-color);\n",
              "    animation:\n",
              "      spin 1s steps(1) infinite;\n",
              "  }\n",
              "\n",
              "  @keyframes spin {\n",
              "    0% {\n",
              "      border-color: transparent;\n",
              "      border-bottom-color: var(--fill-color);\n",
              "      border-left-color: var(--fill-color);\n",
              "    }\n",
              "    20% {\n",
              "      border-color: transparent;\n",
              "      border-left-color: var(--fill-color);\n",
              "      border-top-color: var(--fill-color);\n",
              "    }\n",
              "    30% {\n",
              "      border-color: transparent;\n",
              "      border-left-color: var(--fill-color);\n",
              "      border-top-color: var(--fill-color);\n",
              "      border-right-color: var(--fill-color);\n",
              "    }\n",
              "    40% {\n",
              "      border-color: transparent;\n",
              "      border-right-color: var(--fill-color);\n",
              "      border-top-color: var(--fill-color);\n",
              "    }\n",
              "    60% {\n",
              "      border-color: transparent;\n",
              "      border-right-color: var(--fill-color);\n",
              "    }\n",
              "    80% {\n",
              "      border-color: transparent;\n",
              "      border-right-color: var(--fill-color);\n",
              "      border-bottom-color: var(--fill-color);\n",
              "    }\n",
              "    90% {\n",
              "      border-color: transparent;\n",
              "      border-bottom-color: var(--fill-color);\n",
              "    }\n",
              "  }\n",
              "</style>\n",
              "\n",
              "  <script>\n",
              "    async function quickchart(key) {\n",
              "      const quickchartButtonEl =\n",
              "        document.querySelector('#' + key + ' button');\n",
              "      quickchartButtonEl.disabled = true;  // To prevent multiple clicks.\n",
              "      quickchartButtonEl.classList.add('colab-df-spinner');\n",
              "      try {\n",
              "        const charts = await google.colab.kernel.invokeFunction(\n",
              "            'suggestCharts', [key], {});\n",
              "      } catch (error) {\n",
              "        console.error('Error during call to suggestCharts:', error);\n",
              "      }\n",
              "      quickchartButtonEl.classList.remove('colab-df-spinner');\n",
              "      quickchartButtonEl.classList.add('colab-df-quickchart-complete');\n",
              "    }\n",
              "    (() => {\n",
              "      let quickchartButtonEl =\n",
              "        document.querySelector('#df-ff65c3df-03b9-42d0-9cb0-882a2a6dacc0 button');\n",
              "      quickchartButtonEl.style.display =\n",
              "        google.colab.kernel.accessAllowed ? 'block' : 'none';\n",
              "    })();\n",
              "  </script>\n",
              "</div>\n",
              "\n",
              "  <div id=\"id_f818e9ba-9bf1-4ca7-9f38-6b8f141aa318\">\n",
              "    <style>\n",
              "      .colab-df-generate {\n",
              "        background-color: #E8F0FE;\n",
              "        border: none;\n",
              "        border-radius: 50%;\n",
              "        cursor: pointer;\n",
              "        display: none;\n",
              "        fill: #1967D2;\n",
              "        height: 32px;\n",
              "        padding: 0 0 0 0;\n",
              "        width: 32px;\n",
              "      }\n",
              "\n",
              "      .colab-df-generate:hover {\n",
              "        background-color: #E2EBFA;\n",
              "        box-shadow: 0px 1px 2px rgba(60, 64, 67, 0.3), 0px 1px 3px 1px rgba(60, 64, 67, 0.15);\n",
              "        fill: #174EA6;\n",
              "      }\n",
              "\n",
              "      [theme=dark] .colab-df-generate {\n",
              "        background-color: #3B4455;\n",
              "        fill: #D2E3FC;\n",
              "      }\n",
              "\n",
              "      [theme=dark] .colab-df-generate:hover {\n",
              "        background-color: #434B5C;\n",
              "        box-shadow: 0px 1px 3px 1px rgba(0, 0, 0, 0.15);\n",
              "        filter: drop-shadow(0px 1px 2px rgba(0, 0, 0, 0.3));\n",
              "        fill: #FFFFFF;\n",
              "      }\n",
              "    </style>\n",
              "    <button class=\"colab-df-generate\" onclick=\"generateWithVariable('abandonos_por_cualificacion')\"\n",
              "            title=\"Generate code using this dataframe.\"\n",
              "            style=\"display:none;\">\n",
              "\n",
              "  <svg xmlns=\"http://www.w3.org/2000/svg\" height=\"24px\"viewBox=\"0 0 24 24\"\n",
              "       width=\"24px\">\n",
              "    <path d=\"M7,19H8.4L18.45,9,17,7.55,7,17.6ZM5,21V16.75L18.45,3.32a2,2,0,0,1,2.83,0l1.4,1.43a1.91,1.91,0,0,1,.58,1.4,1.91,1.91,0,0,1-.58,1.4L9.25,21ZM18.45,9,17,7.55Zm-12,3A5.31,5.31,0,0,0,4.9,8.1,5.31,5.31,0,0,0,1,6.5,5.31,5.31,0,0,0,4.9,4.9,5.31,5.31,0,0,0,6.5,1,5.31,5.31,0,0,0,8.1,4.9,5.31,5.31,0,0,0,12,6.5,5.46,5.46,0,0,0,6.5,12Z\"/>\n",
              "  </svg>\n",
              "    </button>\n",
              "    <script>\n",
              "      (() => {\n",
              "      const buttonEl =\n",
              "        document.querySelector('#id_f818e9ba-9bf1-4ca7-9f38-6b8f141aa318 button.colab-df-generate');\n",
              "      buttonEl.style.display =\n",
              "        google.colab.kernel.accessAllowed ? 'block' : 'none';\n",
              "\n",
              "      buttonEl.onclick = () => {\n",
              "        google.colab.notebook.generateWithVariable('abandonos_por_cualificacion');\n",
              "      }\n",
              "      })();\n",
              "    </script>\n",
              "  </div>\n",
              "\n",
              "    </div>\n",
              "  </div>\n"
            ],
            "application/vnd.google.colaboratory.intrinsic+json": {
              "type": "dataframe",
              "variable_name": "abandonos_por_cualificacion",
              "summary": "{\n  \"name\": \"abandonos_por_cualificacion\",\n  \"rows\": 122,\n  \"fields\": [\n    {\n      \"column\": \"Cualificaci\\u00f3n_de_la_madre\",\n      \"properties\": {\n        \"dtype\": \"category\",\n        \"num_unique_values\": 27,\n        \"samples\": [\n          \"Carrera de grado superior (1er ciclo)\",\n          \"Curso de comercio general\",\n          \"Carrera de grado superior - Doctorado (3er ciclo)\"\n        ],\n        \"semantic_type\": \"\",\n        \"description\": \"\"\n      }\n    },\n    {\n      \"column\": \"Cualificaci\\u00f3n_del_padre\",\n      \"properties\": {\n        \"dtype\": \"category\",\n        \"num_unique_values\": 32,\n        \"samples\": [\n          \"Desconocido\",\n          \"Puede leer sin haber cursado 4\\u00ba a\\u00f1o de escolaridad\",\n          \"No sabe leer ni escribir\"\n        ],\n        \"semantic_type\": \"\",\n        \"description\": \"\"\n      }\n    },\n    {\n      \"column\": \"Abandonos\",\n      \"properties\": {\n        \"dtype\": \"number\",\n        \"std\": 32,\n        \"min\": 1,\n        \"max\": 283,\n        \"num_unique_values\": 28,\n        \"samples\": [\n          55,\n          47,\n          102\n        ],\n        \"semantic_type\": \"\",\n        \"description\": \"\"\n      }\n    }\n  ]\n}"
            }
          },
          "metadata": {},
          "execution_count": 18
        }
      ]
    },
    {
      "cell_type": "markdown",
      "source": [
        "#**Pregunta 4**\n",
        "###¿Hay diferencias notables en las tasas de deserción entre estudiantes de diferentes géneros?"
      ],
      "metadata": {
        "id": "J7Iy_sDk_NW6"
      }
    },
    {
      "cell_type": "code",
      "source": [
        "#Pregunta 4 ¿Hay diferencias notables en las tasas de deserción entre estudiantes de diferentes géneros?\n",
        "# Contar los abandonos por género\n",
        "abandonos_por_genero = dropouts['Género'].value_counts()\n",
        "\n",
        "# Mostrar los resultados\n",
        "abandonos_por_genero\n"
      ],
      "metadata": {
        "colab": {
          "base_uri": "https://localhost:8080/",
          "height": 178
        },
        "id": "KpDLd8YLyFsb",
        "outputId": "33f5590d-5e9a-4d2e-afe3-d52b022dba2c"
      },
      "execution_count": null,
      "outputs": [
        {
          "output_type": "execute_result",
          "data": {
            "text/plain": [
              "Género\n",
              "Femenino     720\n",
              "Masculino    701\n",
              "Name: count, dtype: int64"
            ],
            "text/html": [
              "<div>\n",
              "<style scoped>\n",
              "    .dataframe tbody tr th:only-of-type {\n",
              "        vertical-align: middle;\n",
              "    }\n",
              "\n",
              "    .dataframe tbody tr th {\n",
              "        vertical-align: top;\n",
              "    }\n",
              "\n",
              "    .dataframe thead th {\n",
              "        text-align: right;\n",
              "    }\n",
              "</style>\n",
              "<table border=\"1\" class=\"dataframe\">\n",
              "  <thead>\n",
              "    <tr style=\"text-align: right;\">\n",
              "      <th></th>\n",
              "      <th>count</th>\n",
              "    </tr>\n",
              "    <tr>\n",
              "      <th>Género</th>\n",
              "      <th></th>\n",
              "    </tr>\n",
              "  </thead>\n",
              "  <tbody>\n",
              "    <tr>\n",
              "      <th>Femenino</th>\n",
              "      <td>720</td>\n",
              "    </tr>\n",
              "    <tr>\n",
              "      <th>Masculino</th>\n",
              "      <td>701</td>\n",
              "    </tr>\n",
              "  </tbody>\n",
              "</table>\n",
              "</div><br><label><b>dtype:</b> int64</label>"
            ]
          },
          "metadata": {},
          "execution_count": 34
        }
      ]
    },
    {
      "cell_type": "markdown",
      "source": [
        "# **Pregunta 5**\n",
        "###¿Qué relación existe entre el número de deudas financieras de los estudiantes y su probabilidad de deserción?"
      ],
      "metadata": {
        "id": "kb8xXxYR_4qw"
      }
    },
    {
      "cell_type": "code",
      "source": [
        "#Verificamos cuántos alumnos cumplen con la condición de ser deudores dentro de este sector ya filtrado\n",
        "deudor= (dropouts[\"Deudor\"]==\"Si\").sum()\n",
        "\n",
        "dropouts_total= dropouts[\"Deudor\"].count()\n",
        "print(f'El total de personas con deserción es de {dropouts_total}')\n",
        "\n",
        "#Verificamos cuántos alumnos tienen su matrícula al día\n",
        "mat_dia= (dropouts[\"Matrícula_al_día\"]==\"No\").sum()\n",
        "\n",
        "print(f'El número de alumnos con deudas es de: {deudor}')\n",
        "print(f'El número de alumnos que no están al día con sus cuotas es de: {mat_dia}')"
      ],
      "metadata": {
        "id": "jMhkwmUeysoy",
        "colab": {
          "base_uri": "https://localhost:8080/"
        },
        "outputId": "c57d2b56-e985-416e-9a23-016859d6d949"
      },
      "execution_count": null,
      "outputs": [
        {
          "output_type": "stream",
          "name": "stdout",
          "text": [
            "El total de personas con deserción es de 1421\n",
            "El número de alumnos con deudas es de: 312\n",
            "El número de alumnos que no están al día con sus cuotas es de: 457\n"
          ]
        }
      ]
    },
    {
      "cell_type": "markdown",
      "source": [
        "###Ya que vimos la cantidad de deudores y que no es la misma cantidad de personas que no están al corriente con su matriculación, podemos inferir que hay personas que cumplen con ambas condiciones. Verificaremos esto en la siguiente sección:"
      ],
      "metadata": {
        "id": "OVJaSKnC7zrE"
      }
    },
    {
      "cell_type": "code",
      "source": [
        "#Vemos cuántos de los alumnos que no tienen la matrícula al día también son deudores\n",
        "\n",
        "conteo_deuda_sin_matricular=((dropouts[\"Deudor\"]==\"Si\")&(dropouts[\"Matrícula_al_día\"]==\"No\")).sum()\n",
        "print(f'El número total de alumnos que tienen deudas y no están al corriente en su matriculación es: {conteo_deuda_sin_matricular}')\n",
        "\n",
        "p_drop_debt=(conteo_deuda_sin_matricular/dropouts_total)*100\n",
        "\n",
        "print(f'El porcentaje que esto representa del total es de: {p_drop_debt:.2f}%')"
      ],
      "metadata": {
        "colab": {
          "base_uri": "https://localhost:8080/"
        },
        "id": "xtI4gKJf7v-5",
        "outputId": "94bb100e-9701-4ce0-bdc4-ce91b02796c4"
      },
      "execution_count": null,
      "outputs": [
        {
          "output_type": "stream",
          "name": "stdout",
          "text": [
            "El número total de alumnos que tienen deudas y no están al corriente en su matriculación es: 215\n",
            "El porcentaje que esto representa del total es de: 15.13%\n"
          ]
        }
      ]
    }
  ]
}